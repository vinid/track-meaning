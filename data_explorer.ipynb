{
 "cells": [
  {
   "cell_type": "code",
   "execution_count": 2,
   "metadata": {
    "pycharm": {
     "is_executing": true
    }
   },
   "outputs": [],
   "source": [
    "data_folder  = \"/home/vinid/data/gender_project\""
   ]
  },
  {
   "cell_type": "code",
   "execution_count": 9,
   "metadata": {},
   "outputs": [],
   "source": [
    "from ingestion.cleaners import text_remove_punct, text_process\n",
    "from ingestion.find_words import is_word_in_text, get_words_close\n",
    "from ingestion.support import eebo_file_to_date, load_book_to_date_mapper_eebo, year_to_bin\n",
    "from collections import defaultdict\n",
    "from tqdm import tqdm\n",
    "from glob import glob\n",
    "from collections import Counter"
   ]
  },
  {
   "cell_type": "code",
   "execution_count": 6,
   "metadata": {},
   "outputs": [],
   "source": [
    "date_mapper = load_book_to_date_mapper_eebo(f\"{data_folder}/eebo_phase1_IDs_and_dates.txt\")"
   ]
  },
  {
   "cell_type": "code",
   "execution_count": 7,
   "metadata": {},
   "outputs": [],
   "source": [
    "year_to_words = defaultdict(list)\n",
    "word_to_track = \"gender\"\n",
    "all_files = glob(f\"{data_folder}/*/*\")"
   ]
  },
  {
   "cell_type": "code",
   "execution_count": 10,
   "metadata": {},
   "outputs": [
    {
     "name": "stderr",
     "output_type": "stream",
     "text": [
      "100%|██████████| 25368/25368 [02:09<00:00, 196.17it/s]\n"
     ]
    }
   ],
   "source": [
    "for f in tqdm(all_files, total=len(all_files), position=0):\n",
    "    try:\n",
    "        mapped_date = eebo_file_to_date(date_mapper, f)\n",
    "    except Exception as e:\n",
    "        continue\n",
    "\n",
    "    year = year_to_bin(mapped_date)\n",
    "\n",
    "    with open(f) as filino:\n",
    "        text = text_remove_punct(filino.read())\n",
    "\n",
    "        if is_word_in_text(text, word_to_track):\n",
    "            found_words = text_process(get_words_close(text, word_to_track, context_window=10))\n",
    "            year_to_words[year].extend(found_words.split())\n"
   ]
  },
  {
   "cell_type": "code",
   "execution_count": 14,
   "metadata": {},
   "outputs": [
    {
     "name": "stdout",
     "output_type": "stream",
     "text": [
      "Year: 1450\n",
      "\t deceived 1\n",
      "\t caplo 1\n",
      "\t xxi 1\n",
      "\t sloth 1\n",
      "\t ydlenes 1\n",
      "\t gender 1\n",
      "\t siknes 1\n",
      "\t werking 1\n",
      "\t grace 1\n",
      "\t needful 1\n",
      "\n",
      "Year: 1500\n",
      "\t gender 15\n",
      "\t shall 3\n",
      "\t science 2\n",
      "\t love 2\n",
      "\t desire 2\n",
      "\t named 2\n",
      "\t feminine 2\n",
      "\t calx 2\n",
      "\t made 2\n",
      "\t put 2\n",
      "\n",
      "Year: 1550\n",
      "\t gender 100\n",
      "\t masculine 18\n",
      "\t feminine 16\n",
      "\t may 10\n",
      "\t one 10\n",
      "\t shall 8\n",
      "\t case 7\n",
      "\t neuter 7\n",
      "\t thou 6\n",
      "\t much 6\n",
      "\n",
      "Year: 1600\n",
      "\t gender 231\n",
      "\t feminine 76\n",
      "\t masculine 53\n",
      "\t word 24\n",
      "\t number 23\n",
      "\t neuter 22\n",
      "\t thou 19\n",
      "\t case 17\n",
      "\t may 13\n",
      "\t one 13\n",
      "\n",
      "Year: 1650\n",
      "\t gender 415\n",
      "\t masculine 90\n",
      "\t feminine 78\n",
      "\t neuter 57\n",
      "\t word 41\n",
      "\t questions 32\n",
      "\t may 29\n",
      "\t foolish 27\n",
      "\t number 26\n",
      "\t 2 26\n",
      "\n",
      "Year: 1700\n",
      "\t gender 6\n",
      "\t thou 3\n",
      "\t unum 2\n",
      "\t masculine 2\n",
      "\t feminine 2\n",
      "\t shall 2\n",
      "\t thy 2\n",
      "\t hi 1\n",
      "\t tres 1\n",
      "\t sunt 1\n",
      "\n"
     ]
    }
   ],
   "source": [
    "for year in sorted(year_to_words.keys()):\n",
    "    print(f\"Year: {year}\")\n",
    "\n",
    "    for key in Counter(year_to_words[year]).most_common(10):\n",
    "        print(\"\\t\", key[0], key[1])\n",
    "    print()"
   ]
  },
  {
   "cell_type": "code",
   "execution_count": null,
   "metadata": {},
   "outputs": [],
   "source": []
  }
 ],
 "metadata": {
  "kernelspec": {
   "display_name": "Python 3 (ipykernel)",
   "language": "python",
   "name": "python3"
  },
  "language_info": {
   "codemirror_mode": {
    "name": "ipython",
    "version": 3
   },
   "file_extension": ".py",
   "mimetype": "text/x-python",
   "name": "python",
   "nbconvert_exporter": "python",
   "pygments_lexer": "ipython3",
   "version": "3.10.6"
  }
 },
 "nbformat": 4,
 "nbformat_minor": 1
}
